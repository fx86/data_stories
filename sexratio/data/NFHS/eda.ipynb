{
 "cells": [
  {
   "cell_type": "code",
   "execution_count": 27,
   "metadata": {},
   "outputs": [
    {
     "name": "stdout",
     "output_type": "stream",
     "text": [
      "Populating the interactive namespace from numpy and matplotlib\n"
     ]
    },
    {
     "name": "stderr",
     "output_type": "stream",
     "text": [
      "/home/fibinse/anaconda3/lib/python3.6/site-packages/IPython/core/magics/pylab.py:160: UserWarning: pylab import has clobbered these variables: ['figure', 'show']\n",
      "`%matplotlib` prevents importing * from pylab and numpy\n",
      "  \"\\n`%matplotlib` prevents importing * from pylab and numpy\"\n"
     ]
    }
   ],
   "source": [
    "import pandas as pd\n",
    "import seaborn as sns\n",
    "\n",
    "import matplotlib\n",
    "from matplotlib import pyplot as plt\n",
    "%pylab inline\n",
    "\n",
    "\n",
    "import matplotlib as mpl\n",
    "import matplotlib.cm as cm\n",
    "from bokeh.plotting import figure, ColumnDataSource\n",
    "from bokeh.io import output_notebook, show\n",
    "from bokeh.models import HoverTool, BoxZoomTool, ResetTool, ResizeTool, PanTool\n",
    "\n",
    "\n",
    "pd.set_option(\"display.max_rows\",1000)\n",
    "pd.set_option(\"display.max_columns\", 500) \n",
    "pd.set_option('max_colwidth', 200)"
   ]
  },
  {
   "cell_type": "code",
   "execution_count": 28,
   "metadata": {
    "collapsed": true
   },
   "outputs": [],
   "source": [
    "dst = pd.read_csv(\"nfhs_district-wise.csv\", encoding='latin-1')\n",
    "st = pd.read_csv(\"nfhs_state-wise.csv\", encoding='latin-1')\n",
    "indicators = pd.read_csv(\"nfhs_indicator_lookup.csv\", encoding='latin-1')"
   ]
  },
  {
   "cell_type": "markdown",
   "metadata": {},
   "source": [
    "#### cleanup"
   ]
  },
  {
   "cell_type": "code",
   "execution_count": 29,
   "metadata": {},
   "outputs": [
    {
     "name": "stdout",
     "output_type": "stream",
     "text": [
      "(59241, 10)\n",
      "(4218, 8)\n"
     ]
    }
   ],
   "source": [
    "cols_to_change = {\n",
    "                  'float_columns': dst.filter(regex='total|urban|rural').columns,\n",
    "                  'int_columns': st.filter(regex='code').columns\n",
    "                 }\n",
    "\n",
    "\n",
    "replacements = {\n",
    "    '*': pd.np.NaN,\n",
    "    'na': pd.np.NaN\n",
    "}\n",
    "\n",
    "# format columns containing numerics as float/int \n",
    "for df in [dst, st]:\n",
    "    print(df.shape)\n",
    "    for col in cols_to_change['float_columns']:\n",
    "        if df[col].dtype != 'float64':\n",
    "            df[col] = df[col].str.replace(',', '').replace(replacements).astype('float')\n",
    "    for col in cols_to_change['int_columns']:\n",
    "        if df[col].dtype != 'int64':\n",
    "            df[col] = df[col].astype('int')\n",
    "\n",
    "    # strip column names off whitespace\n",
    "    df.columns = df.columns.str.strip()\n",
    "    if 'total_2005-06' in df:\n",
    "        df['total_2005-06'] = df['total_2005-06'].str.replace(',', '').replace(replacements).astype('float')"
   ]
  },
  {
   "cell_type": "code",
   "execution_count": 30,
   "metadata": {
    "collapsed": true
   },
   "outputs": [],
   "source": [
    "# rename columns \n",
    "dst = dst.rename(columns={'rural': 'dst_rural',\n",
    "                    'urban': 'dst_urban',\n",
    "                    'total': 'dst_total'})\n",
    "\n",
    "st = st.rename(columns={'rural': 'st_rural',\n",
    "                        'urban': 'st_urban',\n",
    "                        'total': 'st_total'})"
   ]
  },
  {
   "cell_type": "code",
   "execution_count": 31,
   "metadata": {},
   "outputs": [
    {
     "data": {
      "text/plain": [
       "(88, 109)"
      ]
     },
     "execution_count": 31,
     "metadata": {},
     "output_type": "execute_result"
    }
   ],
   "source": [
    "dst.indicator_name.nunique(), st.indicator.nunique()"
   ]
  },
  {
   "cell_type": "markdown",
   "metadata": {},
   "source": [
    "temp = dst.groupby(['state', 'indicator_name']).mean()['dst_total'].reset_index()\n",
    "temp = temp.pivot('state', 'indicator_name', 'dst_total')\n",
    "temp.head()"
   ]
  },
  {
   "cell_type": "code",
   "execution_count": 32,
   "metadata": {
    "collapsed": true
   },
   "outputs": [],
   "source": [
    "# compare historical change\n",
    "# hist_state = st.loc[(st['total_2005-06'].dropna()).index]\n",
    "st['totals_diff'] = st['st_total'] - st['total_2005-06']\n",
    "# hist_state.indicator = hist_state.indicator.dropna()"
   ]
  },
  {
   "cell_type": "markdown",
   "metadata": {},
   "source": [
    "#### Change in Total %/scores compared to the two"
   ]
  },
  {
   "cell_type": "code",
   "execution_count": 33,
   "metadata": {
    "collapsed": true
   },
   "outputs": [],
   "source": [
    "hist_state = st.loc[st.indicator.dropna().index].reset_index()"
   ]
  },
  {
   "cell_type": "code",
   "execution_count": 34,
   "metadata": {},
   "outputs": [
    {
     "name": "stderr",
     "output_type": "stream",
     "text": [
      "/home/fibinse/anaconda3/lib/python3.6/site-packages/ipykernel_launcher.py:1: UserWarning: This pattern has match groups. To actually get the groups, use str.extract.\n",
      "  \"\"\"Entry point for launching an IPython kernel.\n"
     ]
    },
    {
     "data": {
      "text/plain": [
       "array(['Sex ratio of the total population (females per 1,000 males)',\n",
       "       'Sex ratio at birth for children born in the last five years (females per 1,000 males)'], dtype=object)"
      ]
     },
     "execution_count": 34,
     "metadata": {},
     "output_type": "execute_result"
    }
   ],
   "source": [
    "hist_state.indicator[hist_state.indicator.str.contains('(females per 1,000 males)')].unique()"
   ]
  },
  {
   "cell_type": "code",
   "execution_count": 35,
   "metadata": {},
   "outputs": [
    {
     "name": "stderr",
     "output_type": "stream",
     "text": [
      "/home/fibinse/anaconda3/lib/python3.6/site-packages/ipykernel_launcher.py:1: UserWarning: This pattern has match groups. To actually get the groups, use str.extract.\n",
      "  \"\"\"Entry point for launching an IPython kernel.\n"
     ]
    },
    {
     "data": {
      "text/plain": [
       "array(['Sex ratio of the total population (females per 1,000 males)',\n",
       "       'Sex ratio at birth for children born in the last five years (females per 1,000 males)',\n",
       "       'Total fertility rate (children per woman)',\n",
       "       'Infant mortality rate (IMR)', 'Under-five mortality rate (U5MR)',\n",
       "       'Average out of pocket expenditure per delivery in public health facility (Rs.)',\n",
       "       '#VALUE!'], dtype=object)"
      ]
     },
     "execution_count": 35,
     "metadata": {},
     "output_type": "execute_result"
    }
   ],
   "source": [
    "non_pcnt_indicators = hist_state.indicator[~hist_state.indicator.str.contains('(%)')].unique()\n",
    "non_pcnt_indicators"
   ]
  },
  {
   "cell_type": "code",
   "execution_count": 36,
   "metadata": {
    "scrolled": false
   },
   "outputs": [
    {
     "data": {
      "text/html": [
       "<div>\n",
       "<style>\n",
       "    .dataframe thead tr:only-child th {\n",
       "        text-align: right;\n",
       "    }\n",
       "\n",
       "    .dataframe thead th {\n",
       "        text-align: left;\n",
       "    }\n",
       "\n",
       "    .dataframe tbody tr th {\n",
       "        vertical-align: top;\n",
       "    }\n",
       "</style>\n",
       "<table border=\"1\" class=\"dataframe\">\n",
       "  <thead>\n",
       "    <tr style=\"text-align: right;\">\n",
       "      <th></th>\n",
       "      <th>index</th>\n",
       "      <th>state</th>\n",
       "      <th>indicator_id</th>\n",
       "      <th>indicator</th>\n",
       "      <th>indicator_category</th>\n",
       "      <th>st_urban</th>\n",
       "      <th>st_rural</th>\n",
       "      <th>st_total</th>\n",
       "      <th>total_2005-06</th>\n",
       "      <th>totals_diff</th>\n",
       "    </tr>\n",
       "  </thead>\n",
       "  <tbody>\n",
       "    <tr>\n",
       "      <th>2</th>\n",
       "      <td>2</td>\n",
       "      <td>Andaman and Nicobar Islands</td>\n",
       "      <td>3</td>\n",
       "      <td>Sex ratio of the total population (females per 1,000 males)</td>\n",
       "      <td>Population and Household Profile</td>\n",
       "      <td>966.0</td>\n",
       "      <td>984.0</td>\n",
       "      <td>977.0</td>\n",
       "      <td>NaN</td>\n",
       "      <td>NaN</td>\n",
       "    </tr>\n",
       "    <tr>\n",
       "      <th>3</th>\n",
       "      <td>3</td>\n",
       "      <td>Andaman and Nicobar Islands</td>\n",
       "      <td>4</td>\n",
       "      <td>Sex ratio at birth for children born in the last five years (females per 1,000 males)</td>\n",
       "      <td>Population and Household Profile</td>\n",
       "      <td>708.0</td>\n",
       "      <td>978.0</td>\n",
       "      <td>859.0</td>\n",
       "      <td>NaN</td>\n",
       "      <td>NaN</td>\n",
       "    </tr>\n",
       "    <tr>\n",
       "      <th>16</th>\n",
       "      <td>16</td>\n",
       "      <td>Andaman and Nicobar Islands</td>\n",
       "      <td>17</td>\n",
       "      <td>Total fertility rate (children per woman)</td>\n",
       "      <td>Marriage and Fertility</td>\n",
       "      <td>1.4</td>\n",
       "      <td>1.5</td>\n",
       "      <td>1.5</td>\n",
       "      <td>NaN</td>\n",
       "      <td>NaN</td>\n",
       "    </tr>\n",
       "    <tr>\n",
       "      <th>18</th>\n",
       "      <td>18</td>\n",
       "      <td>Andaman and Nicobar Islands</td>\n",
       "      <td>19</td>\n",
       "      <td>Infant mortality rate (IMR)</td>\n",
       "      <td>Infant and Child Mortality Rates (per 1,000 live births)</td>\n",
       "      <td>NaN</td>\n",
       "      <td>16.0</td>\n",
       "      <td>10.0</td>\n",
       "      <td>NaN</td>\n",
       "      <td>NaN</td>\n",
       "    </tr>\n",
       "    <tr>\n",
       "      <th>19</th>\n",
       "      <td>19</td>\n",
       "      <td>Andaman and Nicobar Islands</td>\n",
       "      <td>20</td>\n",
       "      <td>Under-five mortality rate (U5MR)</td>\n",
       "      <td>Infant and Child Mortality Rates (per 1,000 live births)</td>\n",
       "      <td>NaN</td>\n",
       "      <td>22.0</td>\n",
       "      <td>13.0</td>\n",
       "      <td>NaN</td>\n",
       "      <td>NaN</td>\n",
       "    </tr>\n",
       "  </tbody>\n",
       "</table>\n",
       "</div>"
      ],
      "text/plain": [
       "    index                        state indicator_id  \\\n",
       "2       2  Andaman and Nicobar Islands            3   \n",
       "3       3  Andaman and Nicobar Islands            4   \n",
       "16     16  Andaman and Nicobar Islands           17   \n",
       "18     18  Andaman and Nicobar Islands           19   \n",
       "19     19  Andaman and Nicobar Islands           20   \n",
       "\n",
       "                                                                                indicator  \\\n",
       "2                             Sex ratio of the total population (females per 1,000 males)   \n",
       "3   Sex ratio at birth for children born in the last five years (females per 1,000 males)   \n",
       "16                                              Total fertility rate (children per woman)   \n",
       "18                                                            Infant mortality rate (IMR)   \n",
       "19                                                       Under-five mortality rate (U5MR)   \n",
       "\n",
       "                                          indicator_category  st_urban  \\\n",
       "2                          Population and Household Profile      966.0   \n",
       "3                          Population and Household Profile      708.0   \n",
       "16                                    Marriage and Fertility       1.4   \n",
       "18  Infant and Child Mortality Rates (per 1,000 live births)       NaN   \n",
       "19  Infant and Child Mortality Rates (per 1,000 live births)       NaN   \n",
       "\n",
       "    st_rural  st_total  total_2005-06  totals_diff  \n",
       "2      984.0     977.0            NaN          NaN  \n",
       "3      978.0     859.0            NaN          NaN  \n",
       "16       1.5       1.5            NaN          NaN  \n",
       "18      16.0      10.0            NaN          NaN  \n",
       "19      22.0      13.0            NaN          NaN  "
      ]
     },
     "execution_count": 36,
     "metadata": {},
     "output_type": "execute_result"
    }
   ],
   "source": [
    "hist_state[hist_state['indicator'].isin(non_pcnt_indicators)].head()"
   ]
  },
  {
   "cell_type": "code",
   "execution_count": 37,
   "metadata": {},
   "outputs": [
    {
     "name": "stderr",
     "output_type": "stream",
     "text": [
      "/home/fibinse/anaconda3/lib/python3.6/site-packages/ipykernel_launcher.py:13: SettingWithCopyWarning: \n",
      "A value is trying to be set on a copy of a slice from a DataFrame.\n",
      "Try using .loc[row_indexer,col_indexer] = value instead\n",
      "\n",
      "See the caveats in the documentation: http://pandas.pydata.org/pandas-docs/stable/indexing.html#indexing-view-versus-copy\n",
      "  del sys.path[0]\n"
     ]
    },
    {
     "data": {
      "text/html": [
       "\n",
       "    <div class=\"bk-root\">\n",
       "        <a href=\"https://bokeh.pydata.org\" target=\"_blank\" class=\"bk-logo bk-logo-small bk-logo-notebook\"></a>\n",
       "        <span id=\"c51d00c2-de30-4396-a694-9dd3f2b15ca4\">Loading BokehJS ...</span>\n",
       "    </div>"
      ]
     },
     "metadata": {},
     "output_type": "display_data"
    },
    {
     "data": {
      "application/javascript": [
       "\n",
       "(function(root) {\n",
       "  function now() {\n",
       "    return new Date();\n",
       "  }\n",
       "\n",
       "  var force = true;\n",
       "\n",
       "  if (typeof (root._bokeh_onload_callbacks) === \"undefined\" || force === true) {\n",
       "    root._bokeh_onload_callbacks = [];\n",
       "    root._bokeh_is_loading = undefined;\n",
       "  }\n",
       "\n",
       "\n",
       "  \n",
       "  if (typeof (root._bokeh_timeout) === \"undefined\" || force === true) {\n",
       "    root._bokeh_timeout = Date.now() + 5000;\n",
       "    root._bokeh_failed_load = false;\n",
       "  }\n",
       "\n",
       "  var NB_LOAD_WARNING = {'data': {'text/html':\n",
       "     \"<div style='background-color: #fdd'>\\n\"+\n",
       "     \"<p>\\n\"+\n",
       "     \"BokehJS does not appear to have successfully loaded. If loading BokehJS from CDN, this \\n\"+\n",
       "     \"may be due to a slow or bad network connection. Possible fixes:\\n\"+\n",
       "     \"</p>\\n\"+\n",
       "     \"<ul>\\n\"+\n",
       "     \"<li>re-rerun `output_notebook()` to attempt to load from CDN again, or</li>\\n\"+\n",
       "     \"<li>use INLINE resources instead, as so:</li>\\n\"+\n",
       "     \"</ul>\\n\"+\n",
       "     \"<code>\\n\"+\n",
       "     \"from bokeh.resources import INLINE\\n\"+\n",
       "     \"output_notebook(resources=INLINE)\\n\"+\n",
       "     \"</code>\\n\"+\n",
       "     \"</div>\"}};\n",
       "\n",
       "  function display_loaded() {\n",
       "    if (root.Bokeh !== undefined) {\n",
       "      var el = document.getElementById(\"c51d00c2-de30-4396-a694-9dd3f2b15ca4\");\n",
       "      if (el != null) {\n",
       "        el.textContent = \"BokehJS \" + Bokeh.version + \" successfully loaded.\";\n",
       "      }\n",
       "    } else if (Date.now() < root._bokeh_timeout) {\n",
       "      setTimeout(display_loaded, 100)\n",
       "    }\n",
       "  }\n",
       "\n",
       "\n",
       "  function run_callbacks() {\n",
       "    try {\n",
       "      root._bokeh_onload_callbacks.forEach(function(callback) { callback() });\n",
       "    }\n",
       "    finally {\n",
       "      delete root._bokeh_onload_callbacks\n",
       "    }\n",
       "    console.info(\"Bokeh: all callbacks have finished\");\n",
       "  }\n",
       "\n",
       "  function load_libs(js_urls, callback) {\n",
       "    root._bokeh_onload_callbacks.push(callback);\n",
       "    if (root._bokeh_is_loading > 0) {\n",
       "      console.log(\"Bokeh: BokehJS is being loaded, scheduling callback at\", now());\n",
       "      return null;\n",
       "    }\n",
       "    if (js_urls == null || js_urls.length === 0) {\n",
       "      run_callbacks();\n",
       "      return null;\n",
       "    }\n",
       "    console.log(\"Bokeh: BokehJS not loaded, scheduling load and callback at\", now());\n",
       "    root._bokeh_is_loading = js_urls.length;\n",
       "    for (var i = 0; i < js_urls.length; i++) {\n",
       "      var url = js_urls[i];\n",
       "      var s = document.createElement('script');\n",
       "      s.src = url;\n",
       "      s.async = false;\n",
       "      s.onreadystatechange = s.onload = function() {\n",
       "        root._bokeh_is_loading--;\n",
       "        if (root._bokeh_is_loading === 0) {\n",
       "          console.log(\"Bokeh: all BokehJS libraries loaded\");\n",
       "          run_callbacks()\n",
       "        }\n",
       "      };\n",
       "      s.onerror = function() {\n",
       "        console.warn(\"failed to load library \" + url);\n",
       "      };\n",
       "      console.log(\"Bokeh: injecting script tag for BokehJS library: \", url);\n",
       "      document.getElementsByTagName(\"head\")[0].appendChild(s);\n",
       "    }\n",
       "  };var element = document.getElementById(\"c51d00c2-de30-4396-a694-9dd3f2b15ca4\");\n",
       "  if (element == null) {\n",
       "    console.log(\"Bokeh: ERROR: autoload.js configured with elementid 'c51d00c2-de30-4396-a694-9dd3f2b15ca4' but no matching script tag was found. \")\n",
       "    return false;\n",
       "  }\n",
       "\n",
       "  var js_urls = [\"https://cdn.pydata.org/bokeh/release/bokeh-0.12.7.min.js\", \"https://cdn.pydata.org/bokeh/release/bokeh-widgets-0.12.7.min.js\", \"https://cdn.pydata.org/bokeh/release/bokeh-tables-0.12.7.min.js\", \"https://cdn.pydata.org/bokeh/release/bokeh-gl-0.12.7.min.js\"];\n",
       "\n",
       "  var inline_js = [\n",
       "    function(Bokeh) {\n",
       "      Bokeh.set_log_level(\"info\");\n",
       "    },\n",
       "    \n",
       "    function(Bokeh) {\n",
       "      \n",
       "    },\n",
       "    \n",
       "    function(Bokeh) {\n",
       "      \n",
       "      document.getElementById(\"c51d00c2-de30-4396-a694-9dd3f2b15ca4\").textContent = \"BokehJS is loading...\";\n",
       "    },\n",
       "    function(Bokeh) {\n",
       "      console.log(\"Bokeh: injecting CSS: https://cdn.pydata.org/bokeh/release/bokeh-0.12.7.min.css\");\n",
       "      Bokeh.embed.inject_css(\"https://cdn.pydata.org/bokeh/release/bokeh-0.12.7.min.css\");\n",
       "      console.log(\"Bokeh: injecting CSS: https://cdn.pydata.org/bokeh/release/bokeh-widgets-0.12.7.min.css\");\n",
       "      Bokeh.embed.inject_css(\"https://cdn.pydata.org/bokeh/release/bokeh-widgets-0.12.7.min.css\");\n",
       "      console.log(\"Bokeh: injecting CSS: https://cdn.pydata.org/bokeh/release/bokeh-tables-0.12.7.min.css\");\n",
       "      Bokeh.embed.inject_css(\"https://cdn.pydata.org/bokeh/release/bokeh-tables-0.12.7.min.css\");\n",
       "    }\n",
       "  ];\n",
       "\n",
       "  function run_inline_js() {\n",
       "    \n",
       "    if ((root.Bokeh !== undefined) || (force === true)) {\n",
       "      for (var i = 0; i < inline_js.length; i++) {\n",
       "        inline_js[i].call(root, root.Bokeh);\n",
       "      }if (force === true) {\n",
       "        display_loaded();\n",
       "      }} else if (Date.now() < root._bokeh_timeout) {\n",
       "      setTimeout(run_inline_js, 100);\n",
       "    } else if (!root._bokeh_failed_load) {\n",
       "      console.log(\"Bokeh: BokehJS failed to load within specified timeout.\");\n",
       "      root._bokeh_failed_load = true;\n",
       "    } else if (force !== true) {\n",
       "      var cell = $(document.getElementById(\"c51d00c2-de30-4396-a694-9dd3f2b15ca4\")).parents('.cell').data().cell;\n",
       "      cell.output_area.append_execute_result(NB_LOAD_WARNING)\n",
       "    }\n",
       "\n",
       "  }\n",
       "\n",
       "  if (root._bokeh_is_loading === 0) {\n",
       "    console.log(\"Bokeh: BokehJS loaded, going straight to plotting\");\n",
       "    run_inline_js();\n",
       "  } else {\n",
       "    load_libs(js_urls, function() {\n",
       "      console.log(\"Bokeh: BokehJS plotting callback run at\", now());\n",
       "      run_inline_js();\n",
       "    });\n",
       "  }\n",
       "}(window));"
      ]
     },
     "metadata": {},
     "output_type": "display_data"
    },
    {
     "data": {
      "text/html": [
       "\n",
       "\n",
       "    <div class=\"bk-root\">\n",
       "        <div class=\"bk-plotdiv\" id=\"468adc8d-0a4d-4ef5-8b12-24bbd887a3b6\"></div>\n",
       "    </div>\n",
       "<script type=\"text/javascript\">\n",
       "  \n",
       "  (function(root) {\n",
       "    function now() {\n",
       "      return new Date();\n",
       "    }\n",
       "  \n",
       "    var force = false;\n",
       "  \n",
       "    if (typeof (root._bokeh_onload_callbacks) === \"undefined\" || force === true) {\n",
       "      root._bokeh_onload_callbacks = [];\n",
       "      root._bokeh_is_loading = undefined;\n",
       "    }\n",
       "  \n",
       "  \n",
       "    \n",
       "    if (typeof (root._bokeh_timeout) === \"undefined\" || force === true) {\n",
       "      root._bokeh_timeout = Date.now() + 0;\n",
       "      root._bokeh_failed_load = false;\n",
       "    }\n",
       "  \n",
       "    var NB_LOAD_WARNING = {'data': {'text/html':\n",
       "       \"<div style='background-color: #fdd'>\\n\"+\n",
       "       \"<p>\\n\"+\n",
       "       \"BokehJS does not appear to have successfully loaded. If loading BokehJS from CDN, this \\n\"+\n",
       "       \"may be due to a slow or bad network connection. Possible fixes:\\n\"+\n",
       "       \"</p>\\n\"+\n",
       "       \"<ul>\\n\"+\n",
       "       \"<li>re-rerun `output_notebook()` to attempt to load from CDN again, or</li>\\n\"+\n",
       "       \"<li>use INLINE resources instead, as so:</li>\\n\"+\n",
       "       \"</ul>\\n\"+\n",
       "       \"<code>\\n\"+\n",
       "       \"from bokeh.resources import INLINE\\n\"+\n",
       "       \"output_notebook(resources=INLINE)\\n\"+\n",
       "       \"</code>\\n\"+\n",
       "       \"</div>\"}};\n",
       "  \n",
       "    function display_loaded() {\n",
       "      if (root.Bokeh !== undefined) {\n",
       "        var el = document.getElementById(\"468adc8d-0a4d-4ef5-8b12-24bbd887a3b6\");\n",
       "        if (el != null) {\n",
       "          el.textContent = \"BokehJS \" + Bokeh.version + \" successfully loaded.\";\n",
       "        }\n",
       "      } else if (Date.now() < root._bokeh_timeout) {\n",
       "        setTimeout(display_loaded, 100)\n",
       "      }\n",
       "    }\n",
       "  \n",
       "  \n",
       "    function run_callbacks() {\n",
       "      try {\n",
       "        root._bokeh_onload_callbacks.forEach(function(callback) { callback() });\n",
       "      }\n",
       "      finally {\n",
       "        delete root._bokeh_onload_callbacks\n",
       "      }\n",
       "      console.info(\"Bokeh: all callbacks have finished\");\n",
       "    }\n",
       "  \n",
       "    function load_libs(js_urls, callback) {\n",
       "      root._bokeh_onload_callbacks.push(callback);\n",
       "      if (root._bokeh_is_loading > 0) {\n",
       "        console.log(\"Bokeh: BokehJS is being loaded, scheduling callback at\", now());\n",
       "        return null;\n",
       "      }\n",
       "      if (js_urls == null || js_urls.length === 0) {\n",
       "        run_callbacks();\n",
       "        return null;\n",
       "      }\n",
       "      console.log(\"Bokeh: BokehJS not loaded, scheduling load and callback at\", now());\n",
       "      root._bokeh_is_loading = js_urls.length;\n",
       "      for (var i = 0; i < js_urls.length; i++) {\n",
       "        var url = js_urls[i];\n",
       "        var s = document.createElement('script');\n",
       "        s.src = url;\n",
       "        s.async = false;\n",
       "        s.onreadystatechange = s.onload = function() {\n",
       "          root._bokeh_is_loading--;\n",
       "          if (root._bokeh_is_loading === 0) {\n",
       "            console.log(\"Bokeh: all BokehJS libraries loaded\");\n",
       "            run_callbacks()\n",
       "          }\n",
       "        };\n",
       "        s.onerror = function() {\n",
       "          console.warn(\"failed to load library \" + url);\n",
       "        };\n",
       "        console.log(\"Bokeh: injecting script tag for BokehJS library: \", url);\n",
       "        document.getElementsByTagName(\"head\")[0].appendChild(s);\n",
       "      }\n",
       "    };var element = document.getElementById(\"468adc8d-0a4d-4ef5-8b12-24bbd887a3b6\");\n",
       "    if (element == null) {\n",
       "      console.log(\"Bokeh: ERROR: autoload.js configured with elementid '468adc8d-0a4d-4ef5-8b12-24bbd887a3b6' but no matching script tag was found. \")\n",
       "      return false;\n",
       "    }\n",
       "  \n",
       "    var js_urls = [];\n",
       "  \n",
       "    var inline_js = [\n",
       "      function(Bokeh) {\n",
       "        (function() {\n",
       "          var fn = function() {\n",
       "            var docs_json = {\"4687dedd-04e6-4bd8-bf85-103ff6b5a9d6\":{\"roots\":{\"references\":[{\"attributes\":{\"callback\":null},\"id\":\"d8fb4b07-300d-4a2f-98aa-87e69d3f46c2\",\"type\":\"DataRange1d\"},{\"attributes\":{\"plot\":{\"id\":\"b6c64e22-e25a-44f4-80d3-af251ae14d76\",\"subtype\":\"Figure\",\"type\":\"Plot\"},\"ticker\":{\"id\":\"3d9a4260-9462-4f47-b93b-5a0369505901\",\"type\":\"BasicTicker\"}},\"id\":\"688e6fe4-5e2b-40e4-8c5b-40de0d166550\",\"type\":\"Grid\"},{\"attributes\":{\"plot\":null,\"text\":\"Sex ratio of the total population (females per 1,000 males)\"},\"id\":\"c907f354-f8cf-4185-933c-c2f7a06112bf\",\"type\":\"Title\"},{\"attributes\":{\"callback\":null,\"column_names\":[\"urban\",\"rural\",\"total0506\",\"total\",\"totals_diff\",\"radius\",\"state\",\"color\"],\"data\":{\"color\":[\"#a50026\",\"#a50026\",\"#108647\",\"#eef8a8\",\"#fffcba\",\"#a50026\",\"#9bd469\",\"#a50026\",\"#a50026\",\"#006837\",\"#dcf08f\",\"#51b35e\",\"#fffcba\",\"#82c966\",\"#c1e57b\",\"#feffbe\",\"#f7844e\",\"#a50026\",\"#a50026\",\"#e6f59d\",\"#feffbe\",\"#fffcba\",\"#afdd70\",\"#7dc765\",\"#fff7b2\",\"#a5d86a\",\"#a50026\",\"#1e9a51\",\"#51b35e\",\"#8ecf67\",\"#fa9b58\",\"#a50026\",\"#fbfdba\",\"#82c966\",\"#3ca959\",\"#c7e77f\",\"#c7e77f\"],\"radius\":{\"__ndarray__\":\"CtejcD2KM0BmZmZmZmY0QClcj8L1KDNAXI/C9SjcM0A9CtejcD01QK5H4XoUrjJA4XoUrkdhNEApXI/C9SgxQFyPwvUoXC1AexSuR+H6MEBcj8L1KFw0QAAAAAAAADNAhetRuB6FMUCPwvUoXI81QHE9CtejcDNACtejcD0KNEAUrkfhepQzQHsUrkfh+jRAw/UoXI/CNED2KFyPwvUyQArXo3A9CjNAexSuR+H6NECamZmZmRk0QMP1KFyPQjRAXI/C9ShcM0C4HoXrUbg0QFyPwvUoXDVAmpmZmZkZMkD2KFyPwnUzQNejcD0K1zJAKVyPwvWoNECkcD0K1yM0QPYoXI/C9TNAZmZmZmbmM0DNzMzMzEw0QLgehetRODRAuB6F61E4NEA=\",\"dtype\":\"float64\",\"shape\":[37]},\"rural\":{\"__ndarray__\":\"AAAAAADAjkAAAAAAANCPQAAAAAAAyI1AAAAAAAAIj0AAAAAAAMyQQAAAAAAAAPh/AAAAAAAMkEAAAAAAAHCNQAAAAAAAwIxAAAAAAAA4ikAAAAAAAHiQQAAAAAAAwI5AAAAAAAD4i0AAAAAAACSRQAAAAAAAkI5AAAAAAACwj0AAAAAAAPCOQAAAAAAAQJBAAAAAAAB4ikAAAAAAANiNQAAAAAAAOI5AAAAAAAAYkEAAAAAAAPiOQAAAAAAAaI5AAAAAAACQjUAAAAAAAFCQQAAAAAAAJJBAAAAAAACIjEAAAAAAAOiOQAAAAAAAgI1AAAAAAABckEAAAAAAACyQQAAAAAAAkI5AAAAAAACwj0AAAAAAALiQQAAAAAAA4I9AAAAAAADgj0A=\",\"dtype\":\"float64\",\"shape\":[37]},\"state\":[\"Andaman and Nicobar Islands\",\"Andhra Pradesh\",\"Arunachal Pradesh\",\"Assam\",\"Bihar\",\"Chandigarh\",\"Chhattisgarh\",\"Dadra and Nagar Haveli\",\"Daman and Diu\",\"Delhi\",\"Goa\",\"Gujarat\",\"Haryana\",\"Himachal Pradesh\",\"Jammu and Kashmir\",\"Jharkhand\",\"Karnataka\",\"Kerala\",\"Lakshadweep\",\"Madhya Pradesh\",\"Maharashtra\",\"Manipur\",\"Meghalaya\",\"Mizoram\",\"Nagaland\",\"Odisha\",\"Puducherry\",\"Punjab\",\"Rajasthan\",\"Sikkim\",\"Tamil Nadu\",\"Telangana\",\"Tripura\",\"Uttar Pradesh\",\"Uttarakhand\",\"West Bengal\",\"West Bengal\"],\"total\":{\"__ndarray__\":\"AAAAAACIjkAAAAAAAOCPQAAAAAAA8I1AAAAAAAAIj0AAAAAAAJiQQAAAAAAAMI1AAAAAAADYj0AAAAAAANCKQAAAAAAA8IZAAAAAAACIikAAAAAAANCPQAAAAAAAsI1AAAAAAABgi0AAAAAAANiQQAAAAAAAYI5AAAAAAABQj0AAAAAAAJiOQAAAAAAAZJBAAAAAAAA4kEAAAAAAAKCNQAAAAAAAwI1AAAAAAABkkEAAAAAAAGiPQAAAAAAAqI9AAAAAAABAjkAAAAAAADCQQAAAAAAAsJBAAAAAAABIjEAAAAAAAGiOQAAAAAAAcI1AAAAAAAAkkEAAAAAAAHiPQAAAAAAAMI9AAAAAAAAYj0AAAAAAALiPQAAAAAAAmI9AAAAAAACYj0A=\",\"dtype\":\"float64\",\"shape\":[37]},\"total0506\":{\"__ndarray__\":\"AAAAAAAA+H8AAAAAAAD4fwAAAAAAEI1AAAAAAACAj0AAAAAAAOyQQAAAAAAAAPh/AAAAAAC4j0AAAAAAAAD4fwAAAAAAAPh/AAAAAABwiUAAAAAAABCQQAAAAAAAMI1AAAAAAAAIjEAAAAAAALiQQAAAAAAAgI5AAAAAAADwj0AAAAAAABCQQAAAAAAAkJFAAAAAAAAA+H8AAAAAAAiOQAAAAAAAYI5AAAAAAAC4kEAAAAAAAGiPQAAAAAAAYI9AAAAAAAD4jkAAAAAAACiQQAAAAAAAAPh/AAAAAACQi0AAAAAAAOiNQAAAAAAAQI1AAAAAAADYkEAAAAAAAAD4fwAAAAAAyI9AAAAAAADYjkAAAAAAACCPQAAAAAAAwI9AAAAAAADAj0A=\",\"dtype\":\"float64\",\"shape\":[37]},\"totals_diff\":{\"__ndarray__\":\"AAAAAAAA+H8AAAAAAAD4fwAAAAAAADxAAAAAAAAALsAAAAAAAAA1wAAAAAAAAPh/AAAAAAAAEEAAAAAAAAD4fwAAAAAAAPh/AAAAAACAQUAAAAAAAAAkwAAAAAAAADBAAAAAAAAANcAAAAAAAAAgQAAAAAAAABDAAAAAAAAANMAAAAAAAIBIwAAAAAAAwFLAAAAAAAAA+H8AAAAAAAAqwAAAAAAAADTAAAAAAAAANcAAAAAAAAAAAAAAAAAAACJAAAAAAAAAN8AAAAAAAAAAQAAAAAAAAPh/AAAAAAAAN0AAAAAAAAAwQAAAAAAAABhAAAAAAACARsAAAAAAAAD4fwAAAAAAADPAAAAAAAAAIEAAAAAAAAAzQAAAAAAAABTAAAAAAAAAFMA=\",\"dtype\":\"float64\",\"shape\":[37]},\"urban\":{\"__ndarray__\":\"AAAAAAAwjkAAAAAAAAyQQAAAAAAAaI5AAAAAAAAgj0AAAAAAAIiOQAAAAAAAAPh/AAAAAAAAj0AAAAAAAMiHQAAAAAAAGIVAAAAAAACIikAAAAAAACCPQAAAAAAAWIxAAAAAAABwikAAAAAAAJCMQAAAAAAA8I1AAAAAAAA4jkAAAAAAABiOQAAAAAAAiJBAAAAAAAB4kEAAAAAAACiNQAAAAAAAOI1AAAAAAADkkEAAAAAAAKyQQAAAAAAATJBAAAAAAACYj0AAAAAAADiPQAAAAAAA7JBAAAAAAADoi0AAAAAAAACNQAAAAAAAQI1AAAAAAADgj0AAAAAAAICOQAAAAAAAbJBAAAAAAABojUAAAAAAAMiMQAAAAAAA+I5AAAAAAAD4jkA=\",\"dtype\":\"float64\",\"shape\":[37]}}},\"id\":\"278cfa8e-dc0c-46f3-bdc8-301cc80045bc\",\"type\":\"ColumnDataSource\"},{\"attributes\":{\"active_drag\":\"auto\",\"active_inspect\":\"auto\",\"active_scroll\":\"auto\",\"active_tap\":\"auto\",\"tools\":[{\"id\":\"e682a041-b609-4240-8cee-66caecab8de0\",\"type\":\"HoverTool\"}]},\"id\":\"88c7a3d5-4024-43ee-9856-bc230a9f1fb9\",\"type\":\"Toolbar\"},{\"attributes\":{},\"id\":\"3d9a4260-9462-4f47-b93b-5a0369505901\",\"type\":\"BasicTicker\"},{\"attributes\":{\"axis_label\":\"Total score\",\"formatter\":{\"id\":\"a63dc8c2-8440-4a4c-99c3-2fa5500c33ba\",\"type\":\"BasicTickFormatter\"},\"plot\":{\"id\":\"b6c64e22-e25a-44f4-80d3-af251ae14d76\",\"subtype\":\"Figure\",\"type\":\"Plot\"},\"ticker\":{\"id\":\"3d9a4260-9462-4f47-b93b-5a0369505901\",\"type\":\"BasicTicker\"}},\"id\":\"2bda9c3b-e731-4843-9284-a0f06fceffa1\",\"type\":\"LinearAxis\"},{\"attributes\":{\"below\":[{\"id\":\"2bda9c3b-e731-4843-9284-a0f06fceffa1\",\"type\":\"LinearAxis\"}],\"left\":[{\"id\":\"6eed68c9-26a3-4e7c-ae10-265ad76ab56e\",\"type\":\"LinearAxis\"}],\"plot_width\":800,\"renderers\":[{\"id\":\"2bda9c3b-e731-4843-9284-a0f06fceffa1\",\"type\":\"LinearAxis\"},{\"id\":\"688e6fe4-5e2b-40e4-8c5b-40de0d166550\",\"type\":\"Grid\"},{\"id\":\"6eed68c9-26a3-4e7c-ae10-265ad76ab56e\",\"type\":\"LinearAxis\"},{\"id\":\"e52609cf-cceb-45dc-bd4a-fa8b9e97b702\",\"type\":\"Grid\"},{\"id\":\"4ad748c5-b9db-48bc-8620-2fa7e3856ca9\",\"type\":\"Legend\"},{\"id\":\"aa888b36-7c2b-4c3f-bfe4-ac29592d367d\",\"type\":\"GlyphRenderer\"}],\"title\":{\"id\":\"c907f354-f8cf-4185-933c-c2f7a06112bf\",\"type\":\"Title\"},\"toolbar\":{\"id\":\"88c7a3d5-4024-43ee-9856-bc230a9f1fb9\",\"type\":\"Toolbar\"},\"x_range\":{\"id\":\"d8fb4b07-300d-4a2f-98aa-87e69d3f46c2\",\"type\":\"DataRange1d\"},\"x_scale\":{\"id\":\"80daa4eb-8feb-4bdc-a37b-4e04645b903a\",\"type\":\"LinearScale\"},\"y_range\":{\"id\":\"0d5a671f-14a5-4f7f-b4f9-022be4e99ca2\",\"type\":\"DataRange1d\"},\"y_scale\":{\"id\":\"718d567f-76a0-4aeb-9fcf-b5dd5c8d878f\",\"type\":\"LinearScale\"}},\"id\":\"b6c64e22-e25a-44f4-80d3-af251ae14d76\",\"subtype\":\"Figure\",\"type\":\"Plot\"},{\"attributes\":{},\"id\":\"718d567f-76a0-4aeb-9fcf-b5dd5c8d878f\",\"type\":\"LinearScale\"},{\"attributes\":{\"items\":[{\"id\":\"6e0785ad-9f10-4299-bae8-9b53b97edd83\",\"type\":\"LegendItem\"}],\"location\":\"bottom_right\",\"plot\":{\"id\":\"b6c64e22-e25a-44f4-80d3-af251ae14d76\",\"subtype\":\"Figure\",\"type\":\"Plot\"}},\"id\":\"4ad748c5-b9db-48bc-8620-2fa7e3856ca9\",\"type\":\"Legend\"},{\"attributes\":{\"callback\":null},\"id\":\"0d5a671f-14a5-4f7f-b4f9-022be4e99ca2\",\"type\":\"DataRange1d\"},{\"attributes\":{\"data_source\":{\"id\":\"278cfa8e-dc0c-46f3-bdc8-301cc80045bc\",\"type\":\"ColumnDataSource\"},\"glyph\":{\"id\":\"8123477b-f10a-4baa-9ac2-3ecaf55e276a\",\"type\":\"Circle\"},\"hover_glyph\":null,\"muted_glyph\":null,\"nonselection_glyph\":{\"id\":\"16084a46-e230-4307-8eb8-fa3cda12c0c4\",\"type\":\"Circle\"},\"selection_glyph\":null,\"view\":{\"id\":\"1dcf96c6-e390-491e-b710-eafd4169eec1\",\"type\":\"CDSView\"}},\"id\":\"aa888b36-7c2b-4c3f-bfe4-ac29592d367d\",\"type\":\"GlyphRenderer\"},{\"attributes\":{\"label\":{\"value\":\"NFHS\"},\"renderers\":[{\"id\":\"aa888b36-7c2b-4c3f-bfe4-ac29592d367d\",\"type\":\"GlyphRenderer\"}]},\"id\":\"6e0785ad-9f10-4299-bae8-9b53b97edd83\",\"type\":\"LegendItem\"},{\"attributes\":{\"axis_label\":\"Urban score\",\"formatter\":{\"id\":\"5b979973-cf3a-49b3-9ae3-f90eb27e35a4\",\"type\":\"BasicTickFormatter\"},\"plot\":{\"id\":\"b6c64e22-e25a-44f4-80d3-af251ae14d76\",\"subtype\":\"Figure\",\"type\":\"Plot\"},\"ticker\":{\"id\":\"742df44a-5a54-4f34-8deb-2746c165772d\",\"type\":\"BasicTicker\"}},\"id\":\"6eed68c9-26a3-4e7c-ae10-265ad76ab56e\",\"type\":\"LinearAxis\"},{\"attributes\":{\"callback\":null,\"tooltips\":\"\\n        <div>\\n            <div>\\n                <span style=\\\"font-size: 15px;\\\">State: @state</span><br>\\n                <span style=\\\"font-size: 12px;\\\">Totals: @total</span><br>\\n                <span style=\\\"font-size: 12px;\\\">Totals ('05-'06): @total0506</span><br>\\n                <span style=\\\"font-size: 12px;\\\">Rural: @rural</span><br>\\n                <span style=\\\"font-size: 12px;\\\">Urban: @urban</span><br>\\n                <span style=\\\"font-size: 12px;\\\">Color is change in totals vs 2005-06: @totals_diff</span><br>\\n            </div>\\n        </div>\\n        \"},\"id\":\"e682a041-b609-4240-8cee-66caecab8de0\",\"type\":\"HoverTool\"},{\"attributes\":{},\"id\":\"80daa4eb-8feb-4bdc-a37b-4e04645b903a\",\"type\":\"LinearScale\"},{\"attributes\":{},\"id\":\"5b979973-cf3a-49b3-9ae3-f90eb27e35a4\",\"type\":\"BasicTickFormatter\"},{\"attributes\":{},\"id\":\"a63dc8c2-8440-4a4c-99c3-2fa5500c33ba\",\"type\":\"BasicTickFormatter\"},{\"attributes\":{\"fill_alpha\":{\"value\":0.1},\"fill_color\":{\"value\":\"#1f77b4\"},\"line_alpha\":{\"value\":0.1},\"line_color\":{\"value\":\"#1f77b4\"},\"size\":{\"field\":\"radius\",\"units\":\"screen\"},\"x\":{\"field\":\"total\"},\"y\":{\"field\":\"urban\"}},\"id\":\"16084a46-e230-4307-8eb8-fa3cda12c0c4\",\"type\":\"Circle\"},{\"attributes\":{\"dimension\":1,\"plot\":{\"id\":\"b6c64e22-e25a-44f4-80d3-af251ae14d76\",\"subtype\":\"Figure\",\"type\":\"Plot\"},\"ticker\":{\"id\":\"742df44a-5a54-4f34-8deb-2746c165772d\",\"type\":\"BasicTicker\"}},\"id\":\"e52609cf-cceb-45dc-bd4a-fa8b9e97b702\",\"type\":\"Grid\"},{\"attributes\":{\"fill_color\":{\"field\":\"color\"},\"line_color\":{\"field\":\"color\"},\"size\":{\"field\":\"radius\",\"units\":\"screen\"},\"x\":{\"field\":\"total\"},\"y\":{\"field\":\"urban\"}},\"id\":\"8123477b-f10a-4baa-9ac2-3ecaf55e276a\",\"type\":\"Circle\"},{\"attributes\":{},\"id\":\"742df44a-5a54-4f34-8deb-2746c165772d\",\"type\":\"BasicTicker\"},{\"attributes\":{\"source\":{\"id\":\"278cfa8e-dc0c-46f3-bdc8-301cc80045bc\",\"type\":\"ColumnDataSource\"}},\"id\":\"1dcf96c6-e390-491e-b710-eafd4169eec1\",\"type\":\"CDSView\"}],\"root_ids\":[\"b6c64e22-e25a-44f4-80d3-af251ae14d76\"]},\"title\":\"Bokeh Application\",\"version\":\"0.12.7\"}};\n",
       "            var render_items = [{\"docid\":\"4687dedd-04e6-4bd8-bf85-103ff6b5a9d6\",\"elementid\":\"468adc8d-0a4d-4ef5-8b12-24bbd887a3b6\",\"modelid\":\"b6c64e22-e25a-44f4-80d3-af251ae14d76\",\"notebook_comms_target\":\"7d47b35e-7e3c-4703-b1b2-df2a37522ca7\"}];\n",
       "            \n",
       "            Bokeh.embed.embed_items(docs_json, render_items);\n",
       "          };\n",
       "          if (document.readyState != \"loading\") fn();\n",
       "          else document.addEventListener(\"DOMContentLoaded\", fn);\n",
       "        })();\n",
       "      },\n",
       "      function(Bokeh) {\n",
       "      }\n",
       "    ];\n",
       "  \n",
       "    function run_inline_js() {\n",
       "      \n",
       "      if ((root.Bokeh !== undefined) || (force === true)) {\n",
       "        for (var i = 0; i < inline_js.length; i++) {\n",
       "          inline_js[i].call(root, root.Bokeh);\n",
       "        }if (force === true) {\n",
       "          display_loaded();\n",
       "        }} else if (Date.now() < root._bokeh_timeout) {\n",
       "        setTimeout(run_inline_js, 100);\n",
       "      } else if (!root._bokeh_failed_load) {\n",
       "        console.log(\"Bokeh: BokehJS failed to load within specified timeout.\");\n",
       "        root._bokeh_failed_load = true;\n",
       "      } else if (force !== true) {\n",
       "        var cell = $(document.getElementById(\"468adc8d-0a4d-4ef5-8b12-24bbd887a3b6\")).parents('.cell').data().cell;\n",
       "        cell.output_area.append_execute_result(NB_LOAD_WARNING)\n",
       "      }\n",
       "  \n",
       "    }\n",
       "  \n",
       "    if (root._bokeh_is_loading === 0) {\n",
       "      console.log(\"Bokeh: BokehJS loaded, going straight to plotting\");\n",
       "      run_inline_js();\n",
       "    } else {\n",
       "      load_libs(js_urls, function() {\n",
       "        console.log(\"Bokeh: BokehJS plotting callback run at\", now());\n",
       "        run_inline_js();\n",
       "      });\n",
       "    }\n",
       "  }(window));\n",
       "</script>"
      ]
     },
     "metadata": {},
     "output_type": "display_data"
    }
   ],
   "source": [
    "col = 'Sex ratio of the total population (females per 1,000 males)'\n",
    "# col = 'Sex ratio at birth for children born in the last five years (females per 1,000 males)'\n",
    "temp = hist_state[hist_state['indicator'].isin([col])]\n",
    "cmap = cm.RdYlGn\n",
    "norm = mpl.colors.Normalize(vmin=temp['totals_diff'].min(), vmax=temp['totals_diff'].max())\n",
    "\n",
    "m = cm.ScalarMappable(norm=norm, cmap=cmap)\n",
    "old_min, old_max = temp.totals_diff.min(), temp.totals_diff.max()\n",
    "def scale_number(unscaled, to_min=-1, to_max=1, from_min=old_min, from_max=old_max):\n",
    "    return (to_max-to_min)*(unscaled-from_min)/(from_max-from_min)+to_min\n",
    "\n",
    "\n",
    "temp['color'] = temp.totals_diff.apply(lambda x: mpl.colors.to_hex(m.to_rgba(x, alpha=.6)))\n",
    "\n",
    "source = ColumnDataSource(\n",
    "        data=dict(\n",
    "            urban=temp['st_urban'],\n",
    "            rural=temp['st_rural'],\n",
    "            total0506=temp['total_2005-06'],\n",
    "            total=temp['st_total'],\n",
    "            totals_diff=temp['totals_diff'],\n",
    "            radius=temp['st_total']/50,\n",
    "            state=temp['state'],\n",
    "            color=temp['color']\n",
    "        )\n",
    "    )\n",
    "\n",
    "hover = HoverTool(\n",
    "        tooltips=\"\"\"\n",
    "        <div>\n",
    "            <div>\n",
    "                <span style=\"font-size: 15px;\">State: @state</span><br>\n",
    "                <span style=\"font-size: 12px;\">Totals: @total</span><br>\n",
    "                <span style=\"font-size: 12px;\">Totals ('05-'06): @total0506</span><br>\n",
    "                <span style=\"font-size: 12px;\">Rural: @rural</span><br>\n",
    "                <span style=\"font-size: 12px;\">Urban: @urban</span><br>\n",
    "                <span style=\"font-size: 12px;\">Color is change in totals vs 2005-06: @totals_diff</span><br>\n",
    "            </div>\n",
    "        </div>\n",
    "        \"\"\"\n",
    "    )\n",
    "\n",
    "p = figure(plot_width=800, plot_height=600, tools=[hover],\n",
    "#            title=\"{:s} vs {:s}  Legend: {:s}\".format('Number of bedrooms', 'price', 'living index'),\n",
    "           title=col,\n",
    "           x_axis_label='Total score', \n",
    "           y_axis_label='Urban score')\n",
    "\n",
    "p.scatter('total', 'urban', \n",
    "          source=source, color='color', \n",
    "          size='radius', legend='NFHS')\n",
    "p.legend.location = \"bottom_right\"\n",
    "output_notebook()\n",
    "show(p, notebook_handle=True)"
   ]
  },
  {
   "cell_type": "markdown",
   "metadata": {
    "collapsed": true
   },
   "source": [
    "Comparing the state's survey scores for 'Sex ratio of the total population (females per 1,000 males)', we see that - \n",
    "the spread of `urban score` is higher than that of the `rural score`. "
   ]
  },
  {
   "cell_type": "code",
   "execution_count": 38,
   "metadata": {},
   "outputs": [
    {
     "data": {
      "text/plain": [
       "<matplotlib.text.Text at 0x7f713ee5d9b0>"
      ]
     },
     "execution_count": 38,
     "metadata": {},
     "output_type": "execute_result"
    },
    {
     "data": {
      "image/png": "[encoded data removed]",
      "text/plain": [
       "<matplotlib.figure.Figure at 0x7f713f0ff358>"
      ]
     },
     "metadata": {},
     "output_type": "display_data"
    }
   ],
   "source": [
    "g = sns.PairGrid(temp.sort_values(\"st_total\", ascending=False),\n",
    "                 x_vars=['st_total', 'st_urban', 'st_rural'], y_vars='state',\n",
    "                 size=10, aspect=.25)\n",
    "\n",
    "# Draw a dot plot using the stripplot function\n",
    "g.map(sns.stripplot, size=15, orient=\"h\",\n",
    "      palette=\"RdBu_r\", edgecolor=\"lightgrey\")\n",
    "\n",
    "# Use the same x axis limits on all columns and add better labels\n",
    "g.set(xlim=(0, 1200), xlabel=\"females per 1K males\", ylabel=\"\")\n",
    "\n",
    "# Use semantically meaningful titles for the columns\n",
    "titles = ['Totals', 'Urban', 'Rural', 'Change from 2005-06']\n",
    "\n",
    "for ax, title in zip(g.axes.flat, titles):\n",
    "\n",
    "    # Set a different title for each axes\n",
    "    ax.set(title=title)\n",
    "\n",
    "    # Make the grid horizontal instead of vertical\n",
    "    ax.xaxis.grid(False)\n",
    "    ax.yaxis.grid(True)\n",
    "\n",
    "sns.despine(left=True, bottom=True)\n",
    "plt.subplots_adjust(top=0.9)\n",
    "g.fig.suptitle('State-wise ratio of no. of females per 1000 males')"
   ]
  },
  {
   "cell_type": "code",
   "execution_count": 39,
   "metadata": {
    "collapsed": true,
    "scrolled": false
   },
   "outputs": [],
   "source": [
    "hist_state.loc[hist_state.totals_diff>0, 'Change'] = 'positive'\n",
    "hist_state.loc[hist_state.totals_diff<=0, 'Change'] = 'negative'"
   ]
  },
  {
   "cell_type": "code",
   "execution_count": 40,
   "metadata": {},
   "outputs": [
    {
     "data": {
      "text/html": [
       "<div>\n",
       "<style>\n",
       "    .dataframe thead tr:only-child th {\n",
       "        text-align: right;\n",
       "    }\n",
       "\n",
       "    .dataframe thead th {\n",
       "        text-align: left;\n",
       "    }\n",
       "\n",
       "    .dataframe tbody tr th {\n",
       "        vertical-align: top;\n",
       "    }\n",
       "</style>\n",
       "<table border=\"1\" class=\"dataframe\">\n",
       "  <thead>\n",
       "    <tr style=\"text-align: right;\">\n",
       "      <th></th>\n",
       "      <th>index</th>\n",
       "      <th>state</th>\n",
       "      <th>indicator_id</th>\n",
       "      <th>indicator</th>\n",
       "      <th>indicator_category</th>\n",
       "      <th>st_urban</th>\n",
       "      <th>st_rural</th>\n",
       "      <th>st_total</th>\n",
       "      <th>total_2005-06</th>\n",
       "      <th>totals_diff</th>\n",
       "      <th>Change</th>\n",
       "    </tr>\n",
       "  </thead>\n",
       "  <tbody>\n",
       "    <tr>\n",
       "      <th>0</th>\n",
       "      <td>0</td>\n",
       "      <td>Andaman and Nicobar Islands</td>\n",
       "      <td>1</td>\n",
       "      <td>Population (female) age 6 years and above who ever attended school (%)</td>\n",
       "      <td>Population and Household Profile</td>\n",
       "      <td>87.6</td>\n",
       "      <td>82.6</td>\n",
       "      <td>84.7</td>\n",
       "      <td>NaN</td>\n",
       "      <td>NaN</td>\n",
       "      <td>NaN</td>\n",
       "    </tr>\n",
       "    <tr>\n",
       "      <th>1</th>\n",
       "      <td>1</td>\n",
       "      <td>Andaman and Nicobar Islands</td>\n",
       "      <td>2</td>\n",
       "      <td>Population below age 15 years (%)</td>\n",
       "      <td>Population and Household Profile</td>\n",
       "      <td>23.4</td>\n",
       "      <td>24.3</td>\n",
       "      <td>23.9</td>\n",
       "      <td>NaN</td>\n",
       "      <td>NaN</td>\n",
       "      <td>NaN</td>\n",
       "    </tr>\n",
       "    <tr>\n",
       "      <th>2</th>\n",
       "      <td>2</td>\n",
       "      <td>Andaman and Nicobar Islands</td>\n",
       "      <td>3</td>\n",
       "      <td>Sex ratio of the total population (females per 1,000 males)</td>\n",
       "      <td>Population and Household Profile</td>\n",
       "      <td>966.0</td>\n",
       "      <td>984.0</td>\n",
       "      <td>977.0</td>\n",
       "      <td>NaN</td>\n",
       "      <td>NaN</td>\n",
       "      <td>NaN</td>\n",
       "    </tr>\n",
       "    <tr>\n",
       "      <th>3</th>\n",
       "      <td>3</td>\n",
       "      <td>Andaman and Nicobar Islands</td>\n",
       "      <td>4</td>\n",
       "      <td>Sex ratio at birth for children born in the last five years (females per 1,000 males)</td>\n",
       "      <td>Population and Household Profile</td>\n",
       "      <td>708.0</td>\n",
       "      <td>978.0</td>\n",
       "      <td>859.0</td>\n",
       "      <td>NaN</td>\n",
       "      <td>NaN</td>\n",
       "      <td>NaN</td>\n",
       "    </tr>\n",
       "    <tr>\n",
       "      <th>4</th>\n",
       "      <td>4</td>\n",
       "      <td>Andaman and Nicobar Islands</td>\n",
       "      <td>5</td>\n",
       "      <td>Children under age 5 years whose birth was registered (%)</td>\n",
       "      <td>Population and Household Profile</td>\n",
       "      <td>97.2</td>\n",
       "      <td>98.4</td>\n",
       "      <td>97.9</td>\n",
       "      <td>NaN</td>\n",
       "      <td>NaN</td>\n",
       "      <td>NaN</td>\n",
       "    </tr>\n",
       "  </tbody>\n",
       "</table>\n",
       "</div>"
      ],
      "text/plain": [
       "   index                        state indicator_id  \\\n",
       "0      0  Andaman and Nicobar Islands            1   \n",
       "1      1  Andaman and Nicobar Islands            2   \n",
       "2      2  Andaman and Nicobar Islands            3   \n",
       "3      3  Andaman and Nicobar Islands            4   \n",
       "4      4  Andaman and Nicobar Islands            5   \n",
       "\n",
       "                                                                               indicator  \\\n",
       "0                 Population (female) age 6 years and above who ever attended school (%)   \n",
       "1                                                      Population below age 15 years (%)   \n",
       "2                            Sex ratio of the total population (females per 1,000 males)   \n",
       "3  Sex ratio at birth for children born in the last five years (females per 1,000 males)   \n",
       "4                              Children under age 5 years whose birth was registered (%)   \n",
       "\n",
       "                  indicator_category  st_urban  st_rural  st_total  \\\n",
       "0  Population and Household Profile       87.6      82.6      84.7   \n",
       "1  Population and Household Profile       23.4      24.3      23.9   \n",
       "2  Population and Household Profile      966.0     984.0     977.0   \n",
       "3  Population and Household Profile      708.0     978.0     859.0   \n",
       "4  Population and Household Profile       97.2      98.4      97.9   \n",
       "\n",
       "   total_2005-06  totals_diff Change  \n",
       "0            NaN          NaN    NaN  \n",
       "1            NaN          NaN    NaN  \n",
       "2            NaN          NaN    NaN  \n",
       "3            NaN          NaN    NaN  \n",
       "4            NaN          NaN    NaN  "
      ]
     },
     "execution_count": 40,
     "metadata": {},
     "output_type": "execute_result"
    }
   ],
   "source": [
    "hist_state.head()"
   ]
  },
  {
   "cell_type": "code",
   "execution_count": 41,
   "metadata": {},
   "outputs": [
    {
     "data": {
      "text/plain": [
       "negative    17\n",
       "positive    12\n",
       "Name: Change, dtype: int64"
      ]
     },
     "execution_count": 41,
     "metadata": {},
     "output_type": "execute_result"
    }
   ],
   "source": [
    "hist_state[hist_state.indicator.isin(['Sex ratio of the total population (females per 1,000 males)'])].Change.value_counts()"
   ]
  },
  {
   "cell_type": "markdown",
   "metadata": {},
   "source": [
    "### sex_ratio"
   ]
  },
  {
   "cell_type": "code",
   "execution_count": 44,
   "metadata": {
    "collapsed": true
   },
   "outputs": [],
   "source": [
    "col = ['Sex ratio of the total population (females per 1,000 males)']\n",
    "lo, hi = [900, 1000]\n",
    "cmap = cm.RdYlGn\n",
    "norm = mpl.colors.Normalize(vmin=0, vmax=100)\n",
    "m = cm.ScalarMappable(norm=norm, cmap=cmap)\n",
    "\n",
    "def scale_number(unscaled, to_min=0, to_max=100, from_min=lo, from_max=hi):\n",
    "    change = (to_max-to_min)*(unscaled-from_min)/(from_max-from_min)+to_min\n",
    "    \n",
    "    return change\n",
    "\n",
    "st['color'] = st[st.indicator.isin(col)].st_total.apply(lambda x: mpl.colors.to_hex(m.to_rgba(scale_number(x), alpha=.6)))\n",
    "st[st.indicator.isin(col)].drop_duplicates('state').set_index('state')[['st_total', 'st_urban', 'st_rural', 'color']].to_json('..//nfhs4_sex_ratio.json')"
   ]
  },
  {
   "cell_type": "markdown",
   "metadata": {},
   "source": [
    "### yoy_sex_ratio"
   ]
  },
  {
   "cell_type": "code",
   "execution_count": 45,
   "metadata": {
    "collapsed": true
   },
   "outputs": [],
   "source": [
    "lo, hi = [900, 1000]\n",
    "cmap = cm.RdYlGn\n",
    "norm = mpl.colors.Normalize(vmin=0, vmax=10)\n",
    "m = cm.ScalarMappable(norm=norm, cmap=cmap)\n",
    "\n",
    "def scale_number(unscaled, to_min=0, to_max=10, from_min=lo, from_max=hi):\n",
    "    change = (to_max-to_min)*(unscaled-from_min)/(from_max-from_min)+to_min\n",
    "    \n",
    "    return change\n",
    "\n",
    "st['color'] = st[st.indicator.isin(col)].totals_diff.apply(lambda x: mpl.colors.to_hex(m.to_rgba(x, alpha=.6)))\n",
    "st[st.indicator.isin(col)].drop_duplicates('state').set_index('state')[['st_total', 'totals_diff', 'color']].to_json('..//yoy_sex_ratio.json')"
   ]
  },
  {
   "cell_type": "markdown",
   "metadata": {},
   "source": [
    "### looking for trends"
   ]
  },
  {
   "cell_type": "code",
   "execution_count": 47,
   "metadata": {
    "collapsed": true
   },
   "outputs": [],
   "source": [
    "census = pd.read_csv(\"../census_sex_ratio.csv\")\n",
    "census['state'] = census['state'].replace({'NCT of Delhi': 'Delhi'})"
   ]
  },
  {
   "cell_type": "code",
   "execution_count": 49,
   "metadata": {
    "collapsed": true,
    "scrolled": false
   },
   "outputs": [],
   "source": [
    "temp = st[st.indicator.isin(col)][['state', 'st_total', 'total_2005-06']]\n",
    "ut = ['Chandigarh',\n",
    " 'Dadra and Nagar Haveli',\n",
    " 'Daman and Diu',\n",
    " 'Puducherry',]\n",
    "temp = temp[~temp.state.isin(ut)]\n",
    "temp = temp.rename(columns={'st_total': 'st_2015',\n",
    "                           'total_2005-06': 'st_2005'}).reset_index(drop=True)\n",
    "\n",
    "temp = temp.merge(census[['state','st_2001', 'st_2011']], right_on='state', left_on='state', how='outer')\n",
    "# temp.columns = 'state st_2001 st_2005 st_2011 st_2015'.split()\n",
    "# temp.columns = 'state st_2005 st_2015'.split()\n",
    "temp['nfhs_change'] = temp['st_2015'] - temp['st_2005']\n",
    "temp['census_change'] = temp['st_2011'] - temp['st_2001']\n",
    "temp.to_csv(\"..//sex_ratio_change.csv\", index=False)"
   ]
  },
  {
   "cell_type": "code",
   "execution_count": 51,
   "metadata": {
    "collapsed": true
   },
   "outputs": [],
   "source": [
    "temp = pd.read_csv(\"../sex_ratio_change.csv\")"
   ]
  },
  {
   "cell_type": "code",
   "execution_count": 52,
   "metadata": {
    "scrolled": false
   },
   "outputs": [
    {
     "data": {
      "text/html": [
       "<div>\n",
       "<style>\n",
       "    .dataframe thead tr:only-child th {\n",
       "        text-align: right;\n",
       "    }\n",
       "\n",
       "    .dataframe thead th {\n",
       "        text-align: left;\n",
       "    }\n",
       "\n",
       "    .dataframe tbody tr th {\n",
       "        vertical-align: top;\n",
       "    }\n",
       "</style>\n",
       "<table border=\"1\" class=\"dataframe\">\n",
       "  <thead>\n",
       "    <tr style=\"text-align: right;\">\n",
       "      <th></th>\n",
       "      <th>state</th>\n",
       "      <th>st_2001</th>\n",
       "      <th>st_2005</th>\n",
       "      <th>st_2011</th>\n",
       "      <th>st_2015</th>\n",
       "    </tr>\n",
       "  </thead>\n",
       "  <tbody>\n",
       "    <tr>\n",
       "      <th>5</th>\n",
       "      <td>Chhattisgarh</td>\n",
       "      <td>989.0</td>\n",
       "      <td>1015.0</td>\n",
       "      <td>991.0</td>\n",
       "      <td>1019.0</td>\n",
       "    </tr>\n",
       "    <tr>\n",
       "      <th>10</th>\n",
       "      <td>Himachal Pradesh</td>\n",
       "      <td>968.0</td>\n",
       "      <td>1070.0</td>\n",
       "      <td>972.0</td>\n",
       "      <td>1078.0</td>\n",
       "    </tr>\n",
       "    <tr>\n",
       "      <th>23</th>\n",
       "      <td>Punjab</td>\n",
       "      <td>876.0</td>\n",
       "      <td>882.0</td>\n",
       "      <td>895.0</td>\n",
       "      <td>905.0</td>\n",
       "    </tr>\n",
       "    <tr>\n",
       "      <th>24</th>\n",
       "      <td>Rajasthan</td>\n",
       "      <td>921.0</td>\n",
       "      <td>957.0</td>\n",
       "      <td>928.0</td>\n",
       "      <td>973.0</td>\n",
       "    </tr>\n",
       "    <tr>\n",
       "      <th>30</th>\n",
       "      <td>Uttarakhand</td>\n",
       "      <td>962.0</td>\n",
       "      <td>996.0</td>\n",
       "      <td>963.0</td>\n",
       "      <td>1015.0</td>\n",
       "    </tr>\n",
       "  </tbody>\n",
       "</table>\n",
       "</div>"
      ],
      "text/plain": [
       "               state  st_2001  st_2005  st_2011  st_2015\n",
       "5       Chhattisgarh    989.0   1015.0    991.0   1019.0\n",
       "10  Himachal Pradesh    968.0   1070.0    972.0   1078.0\n",
       "23            Punjab    876.0    882.0    895.0    905.0\n",
       "24         Rajasthan    921.0    957.0    928.0    973.0\n",
       "30       Uttarakhand    962.0    996.0    963.0   1015.0"
      ]
     },
     "execution_count": 52,
     "metadata": {},
     "output_type": "execute_result"
    }
   ],
   "source": [
    "temp[(temp.nfhs_change > 0) & (temp.census_change > 0) & (temp.nfhs_change > temp.census_change)][['state','st_2001', 'st_2005', 'st_2011', 'st_2015']]"
   ]
  },
  {
   "cell_type": "code",
   "execution_count": 53,
   "metadata": {},
   "outputs": [
    {
     "data": {
      "text/plain": [
       "<matplotlib.axes._subplots.AxesSubplot at 0x7f713525e710>"
      ]
     },
     "execution_count": 53,
     "metadata": {},
     "output_type": "execute_result"
    },
    {
     "data": {
      "image/png": "[encoded data removed]",
      "text/plain": [
       "<matplotlib.figure.Figure at 0x7f713529c240>"
      ]
     },
     "metadata": {},
     "output_type": "display_data"
    }
   ],
   "source": [
    "temp = temp.drop_duplicates('state')\n",
    "temp.set_index('state').sort_values('st_2015', ascending=False)['st_2015'].dropna().plot(kind='barh', figsize=(11,7), \n",
    "                                                                       title='State-wise sex ratio as per NFHS 2015-16')"
   ]
  },
  {
   "cell_type": "code",
   "execution_count": 54,
   "metadata": {},
   "outputs": [
    {
     "data": {
      "text/html": [
       "<div>\n",
       "<style>\n",
       "    .dataframe thead tr:only-child th {\n",
       "        text-align: right;\n",
       "    }\n",
       "\n",
       "    .dataframe thead th {\n",
       "        text-align: left;\n",
       "    }\n",
       "\n",
       "    .dataframe tbody tr th {\n",
       "        vertical-align: top;\n",
       "    }\n",
       "</style>\n",
       "<table border=\"1\" class=\"dataframe\">\n",
       "  <thead>\n",
       "    <tr style=\"text-align: right;\">\n",
       "      <th></th>\n",
       "      <th>nfhs_change</th>\n",
       "      <th>census_change</th>\n",
       "    </tr>\n",
       "  </thead>\n",
       "  <tbody>\n",
       "    <tr>\n",
       "      <th>23</th>\n",
       "      <td>23.0</td>\n",
       "      <td>19.0</td>\n",
       "    </tr>\n",
       "  </tbody>\n",
       "</table>\n",
       "</div>"
      ],
      "text/plain": [
       "    nfhs_change  census_change\n",
       "23         23.0           19.0"
      ]
     },
     "execution_count": 54,
     "metadata": {},
     "output_type": "execute_result"
    }
   ],
   "source": [
    "temp[temp.state == 'Punjab'][['nfhs_change', 'census_change']]"
   ]
  },
  {
   "cell_type": "code",
   "execution_count": 55,
   "metadata": {},
   "outputs": [
    {
     "data": {
      "text/plain": [
       "<matplotlib.axes._subplots.AxesSubplot at 0x7f7135100b70>"
      ]
     },
     "execution_count": 55,
     "metadata": {},
     "output_type": "execute_result"
    },
    {
     "data": {
      "image/png": "[encoded data removed]",
      "text/plain": [
       "<matplotlib.figure.Figure at 0x7f71352906d8>"
      ]
     },
     "metadata": {},
     "output_type": "display_data"
    }
   ],
   "source": [
    "temp.census_change.plot()"
   ]
  },
  {
   "cell_type": "code",
   "execution_count": 56,
   "metadata": {},
   "outputs": [
    {
     "data": {
      "text/plain": [
       "0          NaN\n",
       "1          NaN\n",
       "2     3.010753\n",
       "3    -1.488095\n",
       "4    -1.939058\n",
       "5     0.394089\n",
       "6     4.299754\n",
       "7    -0.972763\n",
       "8     1.713062\n",
       "9    -2.341137\n",
       "10    0.747664\n",
       "11   -0.409836\n",
       "12   -1.956947\n",
       "13   -4.766537\n",
       "14   -6.672598\n",
       "15         NaN\n",
       "16   -1.352758\n",
       "17   -2.057613\n",
       "18   -1.962617\n",
       "19    0.000000\n",
       "20    0.896414\n",
       "21   -2.320888\n",
       "22    0.193424\n",
       "23    2.607710\n",
       "24    1.671891\n",
       "25    0.641026\n",
       "26   -4.174397\n",
       "27         NaN\n",
       "28   -1.868240\n",
       "29    0.810537\n",
       "30    1.907631\n",
       "31   -0.492126\n",
       "33         NaN\n",
       "34         NaN\n",
       "35         NaN\n",
       "36         NaN\n",
       "37         NaN\n",
       "38         NaN\n",
       "39         NaN\n",
       "dtype: float64"
      ]
     },
     "execution_count": 56,
     "metadata": {},
     "output_type": "execute_result"
    }
   ],
   "source": [
    "(temp['st_2015'] - temp['st_2005'])/temp['st_2005'] * 100"
   ]
  },
  {
   "cell_type": "code",
   "execution_count": null,
   "metadata": {
    "collapsed": true
   },
   "outputs": [],
   "source": []
  }
 ],
 "metadata": {
  "kernelspec": {
   "display_name": "Python 3",
   "language": "python",
   "name": "python3"
  },
  "language_info": {
   "codemirror_mode": {
    "name": "ipython",
    "version": 3
   },
   "file_extension": ".py",
   "mimetype": "text/x-python",
   "name": "python",
   "nbconvert_exporter": "python",
   "pygments_lexer": "ipython3",
   "version": "3.6.2"
  }
 },
 "nbformat": 4,
 "nbformat_minor": 2
}
